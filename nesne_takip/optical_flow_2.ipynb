{
 "cells": [
  {
   "cell_type": "code",
   "execution_count": 1,
   "id": "8bac6ef1",
   "metadata": {},
   "outputs": [],
   "source": [
    "import cv2\n",
    "import numpy as np "
   ]
  },
  {
   "cell_type": "code",
   "execution_count": null,
   "id": "6d62ab15",
   "metadata": {},
   "outputs": [],
   "source": [
    "cap = cv2.VideoCapture(0)\n",
    "ret , frame1 = cap.read()\n",
    "cv2.cvtColor(frame1 , cv2.COLOR_BGR2GRAY)\n",
    "prev_img = cv2.cvtColor(frame1 , cv2.COLOR_BGR2GRAY)\n",
    "\n",
    "hsv_mask = np.zeros_like(frame1)\n",
    "hsv_mask[:,:,1] = 255\n",
    "\n",
    "while 1:\n",
    "    ret  ,frame2 = cap.read()\n",
    "    next_img = cv2.cvtColor(frame2 , cv2.COLOR_BGR2GRAY)\n",
    "\n",
    "    flow = cv2.calcOpticalFlowFarneback(prev_img ,next_img,None ,0.5,3,15,3,5,1.2,0)\n",
    "\n",
    "    mag , ang = cv2.cartToPolar(flow[:,:,0] , flow[:,:,1],angleInDegrees= True) # 2 boyutlu vektörlarin konumlarını ve acılarını döndürür\n",
    "\n",
    "    hsv_mask[:,:,0] =ang/2\n",
    "    hsv_mask[:,:,2] = cv2.normalize(mag , None , 0,255 , cv2.NORM_MINMAX)\n",
    "\n",
    "    bgr = cv2.cvtColor(hsv_mask ,cv2.COLOR_HSV2BGR)\n",
    "    cv2.imshow(\"frame2\",bgr)\n",
    "\n",
    "    k = cv2.waitKey(30) & 0xFF\n",
    "    if k == 27:\n",
    "        break\n",
    "\n",
    "    prev_img = next_img\n",
    "\n",
    "\n",
    "cap.release()\n",
    "cv2.destroyAllWindows()\n",
    "\n"
   ]
  },
  {
   "cell_type": "code",
   "execution_count": null,
   "id": "5622b7df",
   "metadata": {},
   "outputs": [],
   "source": []
  }
 ],
 "metadata": {
  "kernelspec": {
   "display_name": "Python 3",
   "language": "python",
   "name": "python3"
  },
  "language_info": {
   "codemirror_mode": {
    "name": "ipython",
    "version": 3
   },
   "file_extension": ".py",
   "mimetype": "text/x-python",
   "name": "python",
   "nbconvert_exporter": "python",
   "pygments_lexer": "ipython3",
   "version": "3.11.4"
  }
 },
 "nbformat": 4,
 "nbformat_minor": 5
}
