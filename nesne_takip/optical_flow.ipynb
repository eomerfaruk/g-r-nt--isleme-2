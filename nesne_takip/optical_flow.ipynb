{
 "cells": [
  {
   "cell_type": "code",
   "execution_count": 4,
   "id": "8e0b05d1",
   "metadata": {},
   "outputs": [],
   "source": [
    "import cv2 \n",
    "import numpy as np \n",
    "from matplotlib import pyplot as plt "
   ]
  },
  {
   "cell_type": "code",
   "execution_count": 5,
   "id": "fd268bba",
   "metadata": {},
   "outputs": [],
   "source": [
    "corners_track_params = dict(maxCorners = 10,\n",
    "                           qualityLevel = 0.3,\n",
    "                           minDsitance = 7,\n",
    "                           blockSize = 7)"
   ]
  },
  {
   "cell_type": "code",
   "execution_count": 6,
   "id": "c2b15e42",
   "metadata": {},
   "outputs": [],
   "source": [
    "lk_params = dict(winSize = (200,200),\n",
    "                 maxLevel = 2,\n",
    "                 criteria = (cv2.TERM_CRITERIA_EPS | cv2.TERM_CRITERIA_COUNT,10,0.03))"
   ]
  },
  {
   "cell_type": "code",
   "execution_count": 7,
   "id": "54be9f7e",
   "metadata": {},
   "outputs": [],
   "source": [
    "cap = cv2.VideoCapture(0)"
   ]
  },
  {
   "cell_type": "code",
   "execution_count": null,
   "id": "db9939fe",
   "metadata": {},
   "outputs": [],
   "source": [
    "ret , prev_frame = cap.read()\n",
    "\n",
    "prev_gray = cv2.cvtColor(prev_frame , cv2.COLOR_BGR2GRAY)\n",
    "\n",
    "prevPts = cv2.goodFeaturesToTrack(prev_gray , mask = None ,**corners_track_params )\n",
    "\n",
    "mask = np.zeros_like(prev_frame) # frame büyüklüğünde sıır matrisi olusturur\n",
    "\n",
    "while True:\n",
    "    ret , frame = cap.read()\n",
    "    frame_gray = cv2.cvtColor(frame , cv2.COLOR_BGR2GRAY)\n",
    "    \n",
    "    nextPts ,status,err = cv2.calcOpticalFlowPyrLK(prev_gray , frame_gray ,None,**lk_params )\n",
    "    good_new = nextPts[status == 1]\n",
    "    good_prev = prevPts[status == 1]\n",
    "\n",
    "    for i ,(new,prev) in enumerate(zip(good_new ,good_prev)):\n",
    "        \n",
    "        x_new ,y_new = new.ravel() \n",
    "        x_prev , y_prev = prev.ravel() \n",
    "\n",
    "        mask = cv2.line(mask ,(x_new , y_new) ,(x_prev ,y_prev),(0,25,0),3)\n",
    "\n",
    "        frame = cv2.circle(frame ,(x_new,y_new),8,(0,0,255),-1)\n",
    "\n",
    "        img  = cv2.add(frame ,mask)\n",
    "        cv2.imshow(\"frame\",img)\n",
    "        \n",
    "        k = cv2.waitKey(30) & 0xFF\n",
    "        if k == 27:\n",
    "            break\n",
    "\n",
    "        prev_gray = frame_gray.copy()\n",
    "        prevPts = good_new.reshape(-1,1,2)\n",
    "\n",
    "\n",
    "cv2.destroyAllWindows()\n",
    "cap.release()   \n",
    "\n"
   ]
  },
  {
   "cell_type": "code",
   "execution_count": null,
   "id": "ca4f6648",
   "metadata": {},
   "outputs": [],
   "source": []
  }
 ],
 "metadata": {
  "kernelspec": {
   "display_name": "Python 3",
   "language": "python",
   "name": "python3"
  },
  "language_info": {
   "codemirror_mode": {
    "name": "ipython",
    "version": 3
   },
   "file_extension": ".py",
   "mimetype": "text/x-python",
   "name": "python",
   "nbconvert_exporter": "python",
   "pygments_lexer": "ipython3",
   "version": "3.11.4"
  }
 },
 "nbformat": 4,
 "nbformat_minor": 5
}
