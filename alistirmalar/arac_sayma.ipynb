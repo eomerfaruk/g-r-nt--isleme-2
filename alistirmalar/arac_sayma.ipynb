{
 "cells": [
  {
   "cell_type": "code",
   "execution_count": null,
   "id": "1587c151",
   "metadata": {},
   "outputs": [],
   "source": [
    "import cv2\n",
    "import numpy as np\n",
    "\n",
    "vid = cv2.VideoCapture(\"resimler/4.2 traffic.avi.avi\")\n",
    "backsub = cv2.createBackgroundSubtractorMOG2()\n",
    "c = 0\n",
    "\n",
    "while True:\n",
    "    ret,frame = vid.read()\n",
    "    if ret:\n",
    "        fgmask = backsub.apply(frame) #arka planı görüntüden çıkardık\n",
    "        fgmask = cv2.medianBlur(fgmask,7)\n",
    "        cv2.line(frame,(50,0),(50,300),(0,255,0),2)  #görüntü üzerine çizgiler çekiyoruz\n",
    "        cv2.line(frame,(70,0),(70,300),(0,255,0),2)\n",
    "        \n",
    "        #araçların konturlarını buluyoruz\n",
    "        contours,hierarchy = cv2.findContours(fgmask,cv2.RETR_TREE,cv2.CHAIN_APPROX_SIMPLE)\n",
    "        try : hierarchy = hierarchy[0]\n",
    "        except: hierarchy=[]\n",
    "        \n",
    "        for contour,hier in zip(contours,hierarchy):\n",
    "        # cv2.boundingRect( ) OpenCV işlevi ikili resmin çevresinde yaklaşık bir dikdörtgen çizmek için kullanılır. \n",
    "        #Bu işlev, esas olarak bir görüntüden konturlar elde ettikten sonra ilgilenilen bölgeyi vurgulamak için kullanılır.\n",
    "            (x,y,w,h) = cv2.boundingRect(contour)\n",
    "            if w>40 and h>40:\n",
    "                cv2.rectangle(frame,(x,y),(x+w,y+h),(255,0,0),3)\n",
    "                if x>50 and x<70:\n",
    "                    c+=1\n",
    "\n",
    "        # cv2.putText(source_image,text,coordinates,font,size,color,thickness,better look)          \n",
    "        cv2.putText(frame,\"car: \"+str(c),(90,100),cv2.FONT_HERSHEY_SIMPLEX,2,(0,0,255),2,cv2.LINE_AA)\n",
    "        \n",
    "\n",
    "        cv2.imshow(\"Car Counting\",frame)\n",
    "        cv2.imshow(\"fgmask\",fgmask)\n",
    "        \n",
    "         #burada waitkey içine girlen sayı her bir karenin kaç milisaniye gösterileceğidir\n",
    "        if cv2.waitKey(20) & 0xFF == ord(\"q\"): #0xFF q'nun makine dilinde ki karşılığıdır\n",
    "            break\n",
    "    else :\n",
    "        break\n",
    "\n",
    "vid.release()\n",
    "cv2.destroyAllWindows()      \n"
   ]
  }
 ],
 "metadata": {
  "language_info": {
   "name": "python"
  }
 },
 "nbformat": 4,
 "nbformat_minor": 5
}
