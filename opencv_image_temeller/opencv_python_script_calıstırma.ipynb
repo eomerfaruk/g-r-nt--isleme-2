{
 "cells": [
  {
   "cell_type": "code",
   "execution_count": 1,
   "id": "a2beddda",
   "metadata": {},
   "outputs": [],
   "source": [
    "import cv2 \n"
   ]
  },
  {
   "cell_type": "code",
   "execution_count": 3,
   "id": "777ea935",
   "metadata": {},
   "outputs": [],
   "source": [
    "img = cv2.imread(\"DATA\\\\kopek.jpg\")"
   ]
  },
  {
   "cell_type": "code",
   "execution_count": 4,
   "id": "d4366b1d",
   "metadata": {},
   "outputs": [],
   "source": [
    "while 1:\n",
    "\n",
    "    cv2.imshow(\"kopek resmi\",img)\n",
    "    if cv2.waitKey(1) & 0xFF == 27: # esc tusuna basılırsa sonsuz döngüden cıkılır\n",
    "        break\n",
    "\n",
    "cv2.destroyAllWindows() #pencere kapatılır"
   ]
  },
  {
   "cell_type": "code",
   "execution_count": null,
   "id": "286250b8",
   "metadata": {},
   "outputs": [],
   "source": []
  }
 ],
 "metadata": {
  "kernelspec": {
   "display_name": "Python 3",
   "language": "python",
   "name": "python3"
  },
  "language_info": {
   "codemirror_mode": {
    "name": "ipython",
    "version": 3
   },
   "file_extension": ".py",
   "mimetype": "text/x-python",
   "name": "python",
   "nbconvert_exporter": "python",
   "pygments_lexer": "ipython3",
   "version": "3.11.4"
  }
 },
 "nbformat": 4,
 "nbformat_minor": 5
}
