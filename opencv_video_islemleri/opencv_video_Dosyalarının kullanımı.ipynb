{
 "cells": [
  {
   "cell_type": "code",
   "execution_count": null,
   "id": "182daaa1",
   "metadata": {},
   "outputs": [],
   "source": [
    "import cv2 \n",
    "\n",
    "cap = cv2.VideoCapture(\"my_video.mp4\")\n",
    "\n",
    "if cap.isOpened() == False:\n",
    "    print(\"video bağlanmadı\")\n",
    "while 1:\n",
    "    ret , frame = cap.read()\n",
    "\n",
    "    if ret == True:\n",
    "        cv2.imshow(\"frame\",frame)\n",
    "\n",
    "        if cv2.waitKey(20) & 0xFF == ord(\"q\"):\n",
    "            break\n",
    "    else:\n",
    "        break\n",
    "\n",
    "cap.release()        \n",
    "cv2.destroyAllWindows()"
   ]
  }
 ],
 "metadata": {
  "language_info": {
   "name": "python"
  }
 },
 "nbformat": 4,
 "nbformat_minor": 5
}
